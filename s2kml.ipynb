{
 "cells": [
  {
   "cell_type": "markdown",
   "metadata": {},
   "source": [
    "## this is my title\n",
    "- this is a point\n",
    "> this is an indent\n",
    "[ this is a hyperlink](https://www.hcrma.net/)"
   ]
  },
  {
   "cell_type": "code",
   "execution_count": 2,
   "metadata": {},
   "outputs": [],
   "source": [
    "import numpy as np"
   ]
  },
  {
   "cell_type": "code",
   "execution_count": 7,
   "metadata": {},
   "outputs": [],
   "source": [
    "# -*- coding: utf-8 -*-\n",
    "\n",
    "# Simple s2 KML generator\n",
    "# Copyright 2018, Sean C. Nichols\n",
    "#  seanni@trichotomy.ca\n",
    "\n",
    "# Hereby released into the public domain: feel free to abuse this code as you see fit!\n",
    "#\n",
    "\n",
    "# usage: python s2gen.py <max_lat> <min_lat> <max_lng> <min_lng> <s2_lvl>\n",
    "#\n",
    "# (i.e.: N-S-E-W order)\n",
    "#\n",
    "\n",
    "from __future__ import print_function\n",
    "\n",
    "from sys import argv, stderr\n",
    "\n",
    "from s2sphere import RegionCoverer, Cell, LatLng, LatLngRect\n"
   ]
  },
  {
   "cell_type": "code",
   "execution_count": 8,
   "metadata": {},
   "outputs": [],
   "source": [
    "def usage(msg=None):\n",
    "    if msg:\n",
    "        stderr.write(msg + '\\n\\n')\n",
    "    stderr.write('usage: {} <max_lat> <min_lat> <max_lng> <min_lng> <s2_lvl>\\n'.format(argv[0]))\n",
    "    exit(1)"
   ]
  },
  {
   "cell_type": "code",
   "execution_count": 9,
   "metadata": {},
   "outputs": [],
   "source": [
    "def swap_latlong(latlong):\n",
    "    return '{},{}'.format(*latlong.split(',')[::-1])\n"
   ]
  },
  {
   "cell_type": "code",
   "execution_count": 14,
   "metadata": {},
   "outputs": [],
   "source": [
    "def s2gen(max_lat, min_lat, max_lng, min_lng, s2_lvl):\n",
    "    point_nw = LatLng.from_degrees(max_lat, min_lng)\n",
    "    point_se = LatLng.from_degrees(min_lat, max_lng)\n",
    "\n",
    "    rc = RegionCoverer()\n",
    "    rc.min_level = s2_lvl\n",
    "    rc.max_level = s2_lvl\n",
    "    rc.max_cells = 1000000\n",
    "\n",
    "    cellids = rc.get_covering(LatLngRect.from_point_pair(point_nw, point_se))\n",
    "\n",
    "    kml = (\n",
    "        '<?xml version=\"1.0\" encoding=\"UTF-8\"?>'\n",
    "        '<kml xmlns=\"http://www.opengis.net/kml/2.2\" xmlns:kml=\"http://www.opengis.net/kml/2.2\" xmlns:atom=\"http://www.w3.org/2005/Atom\">'\n",
    "        '<Document><name>{0}</name>'\n",
    "        '<Style id=\"s2_poly_style\"><LineStyle><color>ff0000ff</color><width>2</width></LineStyle><PolyStyle><fill>0</fill></PolyStyle></Style>'\n",
    "        '<Folder><name>{0}</name><open>1</open>'\n",
    "    ).format('S2 cells level ' + str(s2_lvl))\n",
    "    for cid in cellids:\n",
    "        vertices = [LatLng.from_point(Cell(cid).get_vertex(v)) for v in range(4)]\n",
    "        kml_coords = ['{},0'.format(swap_latlong(str(v).split()[-1])) for v in vertices]\n",
    "        kml += (\n",
    "            '<Placemark><name>{}</name><styleUrl>#s2_poly_style</styleUrl><Polygon><tessellate>1</tessellate><outerBoundaryIs><LinearRing>'\n",
    "            '<coordinates>{} {}</coordinates>'\n",
    "            '</LinearRing></outerBoundaryIs></Polygon></Placemark>'\n",
    "        ).format(cid.id(), ' '.join(kml_coords), kml_coords[0])\n",
    "    kml += (\n",
    "        '</Folder></Document>'\n",
    "        '</kml>'\n",
    "    )\n",
    "\n",
    "    return kml"
   ]
  },
  {
   "cell_type": "code",
   "execution_count": 31,
   "metadata": {},
   "outputs": [],
   "source": [
    "max_lat = 26.199979 #Horizontal Point on the West\n",
    "min_lat = 26.122095 #Horizontal Point on the East\n",
    "max_lng = -97.957739 #Vertical Point to the North\n",
    "min_lng = -98.023402 #Vertical Point to the South\n",
    "s2_lvl = 17 #S2 level, e.g. L17 or L14 as an Integer"
   ]
  },
  {
   "cell_type": "markdown",
   "metadata": {},
   "source": [
    "### Give file unique name(s) so it doesn't append to existing kml's"
   ]
  },
  {
   "cell_type": "code",
   "execution_count": 28,
   "metadata": {
    "scrolled": true
   },
   "outputs": [],
   "source": [
    "%%capture cap --no-stderr\n",
    "print (s2gen(max_lat, min_lat, max_lng, min_lng, s2_lvl))\n",
    "with open('s2grid.kml', 'w') as f:\n",
    "    f.write(cap.stdout)"
   ]
  },
  {
   "cell_type": "code",
   "execution_count": null,
   "metadata": {},
   "outputs": [],
   "source": []
  }
 ],
 "metadata": {
  "kernelspec": {
   "display_name": "Python 3",
   "language": "python",
   "name": "python3"
  },
  "language_info": {
   "codemirror_mode": {
    "name": "ipython",
    "version": 3
   },
   "file_extension": ".py",
   "mimetype": "text/x-python",
   "name": "python",
   "nbconvert_exporter": "python",
   "pygments_lexer": "ipython3",
   "version": "3.7.5"
  }
 },
 "nbformat": 4,
 "nbformat_minor": 2
}
